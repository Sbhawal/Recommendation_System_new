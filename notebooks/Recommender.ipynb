{
 "cells": [
  {
   "cell_type": "markdown",
   "id": "5590b417",
   "metadata": {},
   "source": [
    "# Recommendation system \n",
    "\n",
    "Only suggests similar titles based on the genre similarity, Score, Popularity and plot summary"
   ]
  },
  {
   "cell_type": "markdown",
   "id": "35cb501f",
   "metadata": {},
   "source": [
    "## Imports"
   ]
  },
  {
   "cell_type": "code",
   "execution_count": 1,
   "id": "50aa3c1e",
   "metadata": {},
   "outputs": [],
   "source": [
    "import pandas as pd\n",
    "import numpy as np\n",
    "import pickle \n",
    "\n",
    "import re\n",
    "from bs4 import BeautifulSoup\n",
    "from sklearn.feature_extraction.text import TfidfVectorizer\n",
    "from nltk.stem import WordNetLemmatizer\n",
    "lm = WordNetLemmatizer()\n",
    "from nltk.stem.porter import PorterStemmer\n",
    "stemmer = PorterStemmer()\n",
    "\n",
    "\n",
    "import seaborn as sns\n",
    "import matplotlib.pyplot as plt\n",
    "%matplotlib inline\n",
    "\n",
    "import nltk                                         #Natural language processing tool-kit\n",
    "\n",
    "from nltk.corpus import stopwords                   #Stopwords corpus\n",
    "from nltk.stem import PorterStemmer                 # Stemmer\n",
    "stop_words = set(stopwords.words('english')) \n",
    "\n",
    "import gc\n",
    "import math\n",
    "\n",
    "import yake\n",
    "\n",
    "from sklearn.feature_extraction.text import CountVectorizer\n",
    "from sklearn.preprocessing import MinMaxScaler"
   ]
  },
  {
   "cell_type": "markdown",
   "id": "38887713",
   "metadata": {},
   "source": [
    "## Loading dataset\n",
    "\n",
    "Download from [kaggle link](https://www.kaggle.com/snehaanbhawal/netflix-tv-shows-and-movie-list)\n",
    "\n",
    "Dropping all the colums except only the Genre and Title"
   ]
  },
  {
   "cell_type": "code",
   "execution_count": 2,
   "id": "c745d29f",
   "metadata": {},
   "outputs": [],
   "source": [
    "df = pd.read_csv(\"netflix_list.csv\")"
   ]
  },
  {
   "cell_type": "code",
   "execution_count": 3,
   "id": "170bb4a6",
   "metadata": {},
   "outputs": [],
   "source": [
    "df.drop([\"popular_rank\", \"type\", \"episodes\", \"genres\", \"orign_country\", \"endYear\",\"certificate\",\"isAdult\",\"summary\",\"cast\",\"plot\"], axis=1, inplace=True)\n",
    "# df.dropna(inplace = True)\n",
    "df.reset_index(drop=True, inplace=True)"
   ]
  },
  {
   "cell_type": "code",
   "execution_count": null,
   "id": "7b5ea529",
   "metadata": {},
   "outputs": [],
   "source": []
  },
  {
   "cell_type": "code",
   "execution_count": 4,
   "id": "91aa0aac",
   "metadata": {},
   "outputs": [],
   "source": [
    "df1 = pd.read_csv(\"tag.csv\")\n",
    "df = pd.merge(df, df1, on='title')\n",
    "\n",
    "df.drop(['cast'], axis=1, inplace=True)"
   ]
  },
  {
   "cell_type": "code",
   "execution_count": 5,
   "id": "a97ae400",
   "metadata": {},
   "outputs": [
    {
     "data": {
      "text/plain": [
       "imdb_id        0\n",
       "title          0\n",
       "startYear    451\n",
       "runtime        0\n",
       "language       0\n",
       "rating       771\n",
       "numVotes     771\n",
       "image_url      0\n",
       "story          0\n",
       "summary        0\n",
       "genres         0\n",
       "tags           0\n",
       "dtype: int64"
      ]
     },
     "execution_count": 5,
     "metadata": {},
     "output_type": "execute_result"
    }
   ],
   "source": [
    "df.isnull().sum()"
   ]
  },
  {
   "cell_type": "code",
   "execution_count": 6,
   "id": "7e796a0f",
   "metadata": {},
   "outputs": [
    {
     "data": {
      "text/html": [
       "<div>\n",
       "<style scoped>\n",
       "    .dataframe tbody tr th:only-of-type {\n",
       "        vertical-align: middle;\n",
       "    }\n",
       "\n",
       "    .dataframe tbody tr th {\n",
       "        vertical-align: top;\n",
       "    }\n",
       "\n",
       "    .dataframe thead th {\n",
       "        text-align: right;\n",
       "    }\n",
       "</style>\n",
       "<table border=\"1\" class=\"dataframe\">\n",
       "  <thead>\n",
       "    <tr style=\"text-align: right;\">\n",
       "      <th></th>\n",
       "      <th>imdb_id</th>\n",
       "      <th>title</th>\n",
       "      <th>startYear</th>\n",
       "      <th>runtime</th>\n",
       "      <th>language</th>\n",
       "      <th>rating</th>\n",
       "      <th>numVotes</th>\n",
       "      <th>image_url</th>\n",
       "      <th>story</th>\n",
       "      <th>summary</th>\n",
       "      <th>genres</th>\n",
       "      <th>tags</th>\n",
       "    </tr>\n",
       "  </thead>\n",
       "  <tbody>\n",
       "    <tr>\n",
       "      <th>0</th>\n",
       "      <td>tt4052886</td>\n",
       "      <td>Lucifer</td>\n",
       "      <td>2016.0</td>\n",
       "      <td>42</td>\n",
       "      <td>English</td>\n",
       "      <td>8.1</td>\n",
       "      <td>250884.0</td>\n",
       "      <td>https://m.media-amazon.com/images/M/MV5BNzY1Yj...</td>\n",
       "      <td>Lucifer Morningstar has decided he's had enoug...</td>\n",
       "      <td>Lucifer Morningstar, bored from his sulking li...</td>\n",
       "      <td>Crime,Drama,Fantasy</td>\n",
       "      <td>['Morningstar', 'Angeles', 'Los', 'Lucifer', '...</td>\n",
       "    </tr>\n",
       "    <tr>\n",
       "      <th>1</th>\n",
       "      <td>tt0993840</td>\n",
       "      <td>Army of the Dead</td>\n",
       "      <td>2021.0</td>\n",
       "      <td>148</td>\n",
       "      <td>English</td>\n",
       "      <td>5.8</td>\n",
       "      <td>110780.0</td>\n",
       "      <td>https://m.media-amazon.com/images/M/MV5BNGY0Nz...</td>\n",
       "      <td>Following a zombie outbreak in Las Vegas, a gr...</td>\n",
       "      <td>With the abandoned, walled city of Las Vegas o...</td>\n",
       "      <td>Action,Crime,Horror</td>\n",
       "      <td>['city', 'Bly', 'Las', 'Sin', 'Tanaka', 'milli...</td>\n",
       "    </tr>\n",
       "    <tr>\n",
       "      <th>2</th>\n",
       "      <td>tt7255502</td>\n",
       "      <td>The Kominsky Method</td>\n",
       "      <td>2018.0</td>\n",
       "      <td>30</td>\n",
       "      <td>English</td>\n",
       "      <td>8.2</td>\n",
       "      <td>28795.0</td>\n",
       "      <td>https://m.media-amazon.com/images/M/MV5BMzA0YT...</td>\n",
       "      <td>An aging actor, who long ago enjoyed a brush w...</td>\n",
       "      <td>Michael Douglas plays an actor who made it big...</td>\n",
       "      <td>Comedy,Drama</td>\n",
       "      <td>['Method', 'Douglas', 'Kominsky', 'Michael', '...</td>\n",
       "    </tr>\n",
       "    <tr>\n",
       "      <th>3</th>\n",
       "      <td>tt0108778</td>\n",
       "      <td>Friends</td>\n",
       "      <td>1994.0</td>\n",
       "      <td>22</td>\n",
       "      <td>English</td>\n",
       "      <td>8.9</td>\n",
       "      <td>861843.0</td>\n",
       "      <td>https://m.media-amazon.com/images/M/MV5BNDVkYj...</td>\n",
       "      <td>Follows the personal and professional lives of...</td>\n",
       "      <td>Ross Geller, Rachel Green, Monica Geller, Joey...</td>\n",
       "      <td>Comedy,Romance</td>\n",
       "      <td>['Geller', 'Rachel', 'Green', 'Monica', 'Joey'...</td>\n",
       "    </tr>\n",
       "    <tr>\n",
       "      <th>4</th>\n",
       "      <td>tt9251798</td>\n",
       "      <td>Ragnarok</td>\n",
       "      <td>2020.0</td>\n",
       "      <td>45</td>\n",
       "      <td>Norwegian</td>\n",
       "      <td>7.5</td>\n",
       "      <td>26606.0</td>\n",
       "      <td>https://m.media-amazon.com/images/M/MV5BODM3NT...</td>\n",
       "      <td>A small Norwegian town experiencing warm winte...</td>\n",
       "      <td>In the small fictional town of Edda coming of ...</td>\n",
       "      <td>Action,Drama,Fantasy</td>\n",
       "      <td>['Edda', 'people', 'small', 'fictional', 'town...</td>\n",
       "    </tr>\n",
       "  </tbody>\n",
       "</table>\n",
       "</div>"
      ],
      "text/plain": [
       "     imdb_id                title  startYear runtime   language  rating  \\\n",
       "0  tt4052886              Lucifer     2016.0      42    English     8.1   \n",
       "1  tt0993840     Army of the Dead     2021.0     148    English     5.8   \n",
       "2  tt7255502  The Kominsky Method     2018.0      30    English     8.2   \n",
       "3  tt0108778              Friends     1994.0      22    English     8.9   \n",
       "4  tt9251798             Ragnarok     2020.0      45  Norwegian     7.5   \n",
       "\n",
       "   numVotes                                          image_url  \\\n",
       "0  250884.0  https://m.media-amazon.com/images/M/MV5BNzY1Yj...   \n",
       "1  110780.0  https://m.media-amazon.com/images/M/MV5BNGY0Nz...   \n",
       "2   28795.0  https://m.media-amazon.com/images/M/MV5BMzA0YT...   \n",
       "3  861843.0  https://m.media-amazon.com/images/M/MV5BNDVkYj...   \n",
       "4   26606.0  https://m.media-amazon.com/images/M/MV5BODM3NT...   \n",
       "\n",
       "                                               story  \\\n",
       "0  Lucifer Morningstar has decided he's had enoug...   \n",
       "1  Following a zombie outbreak in Las Vegas, a gr...   \n",
       "2  An aging actor, who long ago enjoyed a brush w...   \n",
       "3  Follows the personal and professional lives of...   \n",
       "4  A small Norwegian town experiencing warm winte...   \n",
       "\n",
       "                                             summary                genres  \\\n",
       "0  Lucifer Morningstar, bored from his sulking li...   Crime,Drama,Fantasy   \n",
       "1  With the abandoned, walled city of Las Vegas o...   Action,Crime,Horror   \n",
       "2  Michael Douglas plays an actor who made it big...          Comedy,Drama   \n",
       "3  Ross Geller, Rachel Green, Monica Geller, Joey...        Comedy,Romance   \n",
       "4  In the small fictional town of Edda coming of ...  Action,Drama,Fantasy   \n",
       "\n",
       "                                                tags  \n",
       "0  ['Morningstar', 'Angeles', 'Los', 'Lucifer', '...  \n",
       "1  ['city', 'Bly', 'Las', 'Sin', 'Tanaka', 'milli...  \n",
       "2  ['Method', 'Douglas', 'Kominsky', 'Michael', '...  \n",
       "3  ['Geller', 'Rachel', 'Green', 'Monica', 'Joey'...  \n",
       "4  ['Edda', 'people', 'small', 'fictional', 'town...  "
      ]
     },
     "execution_count": 6,
     "metadata": {},
     "output_type": "execute_result"
    }
   ],
   "source": [
    "df.head(1)"
   ]
  },
  {
   "cell_type": "code",
   "execution_count": 7,
   "id": "221f4197",
   "metadata": {},
   "outputs": [
    {
     "data": {
      "text/plain": [
       "(6608, 12)"
      ]
     },
     "execution_count": 7,
     "metadata": {},
     "output_type": "execute_result"
    }
   ],
   "source": [
    "df.shape"
   ]
  },
  {
   "cell_type": "code",
   "execution_count": 8,
   "id": "c1786efd",
   "metadata": {},
   "outputs": [
    {
     "name": "stderr",
     "output_type": "stream",
     "text": [
      "<ipython-input-8-c664b2c8074e>:3: SettingWithCopyWarning: \n",
      "A value is trying to be set on a copy of a slice from a DataFrame\n",
      "\n",
      "See the caveats in the documentation: https://pandas.pydata.org/pandas-docs/stable/user_guide/indexing.html#returning-a-view-versus-a-copy\n",
      "  df.title[i] = df.title[i][1:]\n"
     ]
    }
   ],
   "source": [
    "for i in range(df.shape[0]):\n",
    "    if df.title[i][0] == \" \":\n",
    "        df.title[i] = df.title[i][1:]\n",
    "        \n",
    "df.drop_duplicates(subset='title', keep='first', inplace=True)\n",
    "df.reset_index(inplace = True, drop=True)"
   ]
  },
  {
   "cell_type": "code",
   "execution_count": 9,
   "id": "a4f6c28e",
   "metadata": {},
   "outputs": [
    {
     "data": {
      "text/plain": [
       "(6037, 12)"
      ]
     },
     "execution_count": 9,
     "metadata": {},
     "output_type": "execute_result"
    }
   ],
   "source": [
    "df.shape"
   ]
  },
  {
   "cell_type": "code",
   "execution_count": null,
   "id": "4111305f",
   "metadata": {},
   "outputs": [],
   "source": []
  },
  {
   "cell_type": "code",
   "execution_count": null,
   "id": "28bd92d7",
   "metadata": {},
   "outputs": [],
   "source": []
  },
  {
   "cell_type": "markdown",
   "id": "92163c48",
   "metadata": {},
   "source": [
    "## Some Processing data"
   ]
  },
  {
   "cell_type": "code",
   "execution_count": null,
   "id": "4b00a189",
   "metadata": {},
   "outputs": [],
   "source": []
  },
  {
   "cell_type": "code",
   "execution_count": 10,
   "id": "852f7eb4",
   "metadata": {},
   "outputs": [],
   "source": [
    "df.tags = [str(x).replace(\",\",\" \").replace(\"[\",\" \").replace(\"]\",\" \").replace(\"'\",\" \") for x in df.tags]\n",
    "\n",
    "df = df[df.runtime != \"\\\\N\" ]\n",
    "df = df[df.startYear != \"\\\\N\" ]\n",
    "df = df[df.genres != \"\\\\N\" ]\n",
    "\n",
    "\n",
    "\n",
    "df.rating = [x for x in df.rating]\n",
    "df = df[df.rating > 5 ]\n",
    "\n",
    "df = df[df.numVotes >= 500]\n",
    "df.numVotes = [int(x/5000) for x in df.numVotes]\n",
    "\n",
    "df.startYear = [int(x) for x in df.startYear]\n",
    "df = df[df.startYear >= 1990 ]\n",
    "df.startYear = [math.ceil((x%1990)/5) for x in df.startYear]\n",
    "\n",
    "df.runtime = [int(x) for x in df.runtime]\n",
    "df = df[df.runtime >= 10 ]"
   ]
  },
  {
   "cell_type": "code",
   "execution_count": 11,
   "id": "3b826002",
   "metadata": {},
   "outputs": [
    {
     "data": {
      "text/plain": [
       "imdb_id      0\n",
       "title        0\n",
       "startYear    0\n",
       "runtime      0\n",
       "language     0\n",
       "rating       0\n",
       "numVotes     0\n",
       "image_url    0\n",
       "story        0\n",
       "summary      0\n",
       "genres       0\n",
       "tags         0\n",
       "dtype: int64"
      ]
     },
     "execution_count": 11,
     "metadata": {},
     "output_type": "execute_result"
    }
   ],
   "source": [
    "df.isnull().sum()"
   ]
  },
  {
   "cell_type": "code",
   "execution_count": 12,
   "id": "a391a9dd",
   "metadata": {},
   "outputs": [],
   "source": [
    "df.reset_index(inplace=True, drop=True)"
   ]
  },
  {
   "cell_type": "code",
   "execution_count": null,
   "id": "5a418da4",
   "metadata": {},
   "outputs": [],
   "source": []
  },
  {
   "cell_type": "code",
   "execution_count": 14,
   "id": "f9923799",
   "metadata": {},
   "outputs": [
    {
     "name": "stderr",
     "output_type": "stream",
     "text": [
      "C:\\Users\\mailt\\anaconda3\\lib\\site-packages\\pandas\\core\\indexing.py:1637: SettingWithCopyWarning: \n",
      "A value is trying to be set on a copy of a slice from a DataFrame\n",
      "\n",
      "See the caveats in the documentation: https://pandas.pydata.org/pandas-docs/stable/user_guide/indexing.html#returning-a-view-versus-a-copy\n",
      "  self._setitem_single_block(indexer, value, name)\n",
      "<ipython-input-14-21f3295af26a>:7: SettingWithCopyWarning: \n",
      "A value is trying to be set on a copy of a slice from a DataFrame\n",
      "\n",
      "See the caveats in the documentation: https://pandas.pydata.org/pandas-docs/stable/user_guide/indexing.html#returning-a-view-versus-a-copy\n",
      "  df.runtime[i]=\"long_runtime\"\n",
      "<ipython-input-14-21f3295af26a>:3: SettingWithCopyWarning: \n",
      "A value is trying to be set on a copy of a slice from a DataFrame\n",
      "\n",
      "See the caveats in the documentation: https://pandas.pydata.org/pandas-docs/stable/user_guide/indexing.html#returning-a-view-versus-a-copy\n",
      "  df.runtime[i] = \"short_runtime\"\n",
      "<ipython-input-14-21f3295af26a>:5: SettingWithCopyWarning: \n",
      "A value is trying to be set on a copy of a slice from a DataFrame\n",
      "\n",
      "See the caveats in the documentation: https://pandas.pydata.org/pandas-docs/stable/user_guide/indexing.html#returning-a-view-versus-a-copy\n",
      "  df.runtime[i] = \"normal_runtime\"\n"
     ]
    }
   ],
   "source": [
    "for i in range(df.shape[0]):\n",
    "    if df.runtime[i]<=30:\n",
    "        df.runtime[i] = \"short_runtime\"\n",
    "    elif df.runtime[i]>30 and df.runtime[i]<=60:\n",
    "        df.runtime[i] = \"normal_runtime\"\n",
    "    elif df.runtime[i]>60:   \n",
    "        df.runtime[i]=\"long_runtime\""
   ]
  },
  {
   "cell_type": "code",
   "execution_count": null,
   "id": "c69aab84",
   "metadata": {},
   "outputs": [],
   "source": []
  },
  {
   "cell_type": "code",
   "execution_count": 15,
   "id": "fa167e2d",
   "metadata": {},
   "outputs": [
    {
     "name": "stderr",
     "output_type": "stream",
     "text": [
      "<ipython-input-15-0b7278430f6b>:13: SettingWithCopyWarning: \n",
      "A value is trying to be set on a copy of a slice from a DataFrame\n",
      "\n",
      "See the caveats in the documentation: https://pandas.pydata.org/pandas-docs/stable/user_guide/indexing.html#returning-a-view-versus-a-copy\n",
      "  df.language[i] = \"Other\"\n"
     ]
    }
   ],
   "source": [
    "for i in range(df.shape[0]):\n",
    "    if (df.language[i] ==\"English\"):# or (df.language[i]!=\"Spanish\") or (df.language[i]!=\"Korean\") or (df.language[i]!=\"Hindi\") or (df.language[i]!=\"French\"):\n",
    "        pass\n",
    "    elif (df.language[i] ==\"Spanish\"):# or (df.language[i]!=\"Spanish\") or (df.language[i]!=\"Korean\") or (df.language[i]!=\"Hindi\") or (df.language[i]!=\"French\"):\n",
    "        pass\n",
    "    elif (df.language[i] ==\"Korean\"):# or (df.language[i]!=\"Spanish\") or (df.language[i]!=\"Korean\") or (df.language[i]!=\"Hindi\") or (df.language[i]!=\"French\"):\n",
    "        pass\n",
    "    elif (df.language[i] ==\"Hindi\"):# or (df.language[i]!=\"Spanish\") or (df.language[i]!=\"Korean\") or (df.language[i]!=\"Hindi\") or (df.language[i]!=\"French\"):\n",
    "        pass\n",
    "    elif (df.language[i] ==\"French\"):# or (df.language[i]!=\"Spanish\") or (df.language[i]!=\"Korean\") or (df.language[i]!=\"Hindi\") or (df.language[i]!=\"French\"):\n",
    "        pass\n",
    "    else:\n",
    "        df.language[i] = \"Other\"\n",
    "    "
   ]
  },
  {
   "cell_type": "code",
   "execution_count": 17,
   "id": "1674d732",
   "metadata": {},
   "outputs": [
    {
     "data": {
      "text/html": [
       "<div>\n",
       "<style scoped>\n",
       "    .dataframe tbody tr th:only-of-type {\n",
       "        vertical-align: middle;\n",
       "    }\n",
       "\n",
       "    .dataframe tbody tr th {\n",
       "        vertical-align: top;\n",
       "    }\n",
       "\n",
       "    .dataframe thead th {\n",
       "        text-align: right;\n",
       "    }\n",
       "</style>\n",
       "<table border=\"1\" class=\"dataframe\">\n",
       "  <thead>\n",
       "    <tr style=\"text-align: right;\">\n",
       "      <th></th>\n",
       "      <th>imdb_id</th>\n",
       "      <th>title</th>\n",
       "      <th>startYear</th>\n",
       "      <th>runtime</th>\n",
       "      <th>language</th>\n",
       "      <th>rating</th>\n",
       "      <th>numVotes</th>\n",
       "      <th>image_url</th>\n",
       "      <th>story</th>\n",
       "      <th>summary</th>\n",
       "      <th>genres</th>\n",
       "      <th>tags</th>\n",
       "    </tr>\n",
       "  </thead>\n",
       "  <tbody>\n",
       "    <tr>\n",
       "      <th>0</th>\n",
       "      <td>tt4052886</td>\n",
       "      <td>Lucifer</td>\n",
       "      <td>6</td>\n",
       "      <td>normal_runtime</td>\n",
       "      <td>English</td>\n",
       "      <td>8.1</td>\n",
       "      <td>50</td>\n",
       "      <td>https://m.media-amazon.com/images/M/MV5BNzY1Yj...</td>\n",
       "      <td>Lucifer Morningstar has decided he's had enoug...</td>\n",
       "      <td>Lucifer Morningstar, bored from his sulking li...</td>\n",
       "      <td>Crime,Drama,Fantasy</td>\n",
       "      <td>Morningstar    Angeles    Los    Lucifer    ...</td>\n",
       "    </tr>\n",
       "  </tbody>\n",
       "</table>\n",
       "</div>"
      ],
      "text/plain": [
       "     imdb_id    title  startYear         runtime language  rating  numVotes  \\\n",
       "0  tt4052886  Lucifer          6  normal_runtime  English     8.1        50   \n",
       "\n",
       "                                           image_url  \\\n",
       "0  https://m.media-amazon.com/images/M/MV5BNzY1Yj...   \n",
       "\n",
       "                                               story  \\\n",
       "0  Lucifer Morningstar has decided he's had enoug...   \n",
       "\n",
       "                                             summary               genres  \\\n",
       "0  Lucifer Morningstar, bored from his sulking li...  Crime,Drama,Fantasy   \n",
       "\n",
       "                                                tags  \n",
       "0    Morningstar    Angeles    Los    Lucifer    ...  "
      ]
     },
     "execution_count": 17,
     "metadata": {},
     "output_type": "execute_result"
    }
   ],
   "source": [
    "df.head(1)"
   ]
  },
  {
   "cell_type": "code",
   "execution_count": 18,
   "id": "c0fef12b",
   "metadata": {},
   "outputs": [],
   "source": [
    "copy = df[['imdb_id', 'title', 'rating', 'image_url', 'story', 'summary','genres']]"
   ]
  },
  {
   "cell_type": "code",
   "execution_count": null,
   "id": "a12cf0f5",
   "metadata": {},
   "outputs": [],
   "source": []
  },
  {
   "cell_type": "code",
   "execution_count": 20,
   "id": "3a9f52ce",
   "metadata": {},
   "outputs": [],
   "source": [
    "v = CountVectorizer()\n",
    "x = v.fit_transform(df[\"runtime\"])\n",
    "df1 = pd.DataFrame(x.toarray(), columns=v.get_feature_names())\n",
    "df = pd.concat([df, df1], axis=1)\n",
    "df.drop([\"runtime\"], axis = 1, inplace=True) "
   ]
  },
  {
   "cell_type": "code",
   "execution_count": 21,
   "id": "80afa33a",
   "metadata": {},
   "outputs": [],
   "source": [
    "v = CountVectorizer()\n",
    "x = v.fit_transform(df[\"language\"])\n",
    "df1 = pd.DataFrame(x.toarray(), columns=v.get_feature_names())\n",
    "df = pd.concat([df, df1], axis=1)\n",
    "df.drop([\"language\"], axis = 1, inplace=True) "
   ]
  },
  {
   "cell_type": "code",
   "execution_count": 22,
   "id": "daa88ba5",
   "metadata": {},
   "outputs": [],
   "source": [
    "scaler = MinMaxScaler()\n",
    "df[['startYear', 'rating', 'numVotes']] = scaler.fit_transform(df[['startYear', 'rating', 'numVotes']])"
   ]
  },
  {
   "cell_type": "code",
   "execution_count": 23,
   "id": "7a62ce5a",
   "metadata": {},
   "outputs": [],
   "source": [
    "v = TfidfVectorizer()\n",
    "x = v.fit_transform(df[\"genres\"])\n",
    "df1 = pd.DataFrame(x.toarray(), columns=v.get_feature_names())\n",
    "df = pd.concat([df, df1], axis=1)\n",
    "# df.drop([\"genres\"], axis = 1, inplace=True) "
   ]
  },
  {
   "cell_type": "code",
   "execution_count": 24,
   "id": "a8cc55bb",
   "metadata": {},
   "outputs": [],
   "source": [
    "v = TfidfVectorizer()\n",
    "x = v.fit_transform(df[\"tags\"])\n",
    "df1 = pd.DataFrame(x.toarray(), columns=v.get_feature_names())\n",
    "df1 = pd.concat([df, df1], axis=1)\n",
    "df1.drop([\"tags\",'imdb_id', 'title', 'image_url', 'story', 'summary','genres'], axis = 1, inplace=True) "
   ]
  },
  {
   "cell_type": "code",
   "execution_count": 25,
   "id": "74539122",
   "metadata": {},
   "outputs": [
    {
     "data": {
      "text/html": [
       "<div>\n",
       "<style scoped>\n",
       "    .dataframe tbody tr th:only-of-type {\n",
       "        vertical-align: middle;\n",
       "    }\n",
       "\n",
       "    .dataframe tbody tr th {\n",
       "        vertical-align: top;\n",
       "    }\n",
       "\n",
       "    .dataframe thead th {\n",
       "        text-align: right;\n",
       "    }\n",
       "</style>\n",
       "<table border=\"1\" class=\"dataframe\">\n",
       "  <thead>\n",
       "    <tr style=\"text-align: right;\">\n",
       "      <th></th>\n",
       "      <th>startYear</th>\n",
       "      <th>rating</th>\n",
       "      <th>numVotes</th>\n",
       "      <th>long_runtime</th>\n",
       "      <th>normal_runtime</th>\n",
       "      <th>short_runtime</th>\n",
       "      <th>english</th>\n",
       "      <th>french</th>\n",
       "      <th>hindi</th>\n",
       "      <th>korean</th>\n",
       "      <th>...</th>\n",
       "      <th>álvaro</th>\n",
       "      <th>ángel</th>\n",
       "      <th>ángela</th>\n",
       "      <th>åland</th>\n",
       "      <th>åsa</th>\n",
       "      <th>çurgunlu</th>\n",
       "      <th>état</th>\n",
       "      <th>ömer</th>\n",
       "      <th>örjan</th>\n",
       "      <th>úrsula</th>\n",
       "    </tr>\n",
       "  </thead>\n",
       "  <tbody>\n",
       "    <tr>\n",
       "      <th>0</th>\n",
       "      <td>0.857143</td>\n",
       "      <td>0.697674</td>\n",
       "      <td>0.147493</td>\n",
       "      <td>0</td>\n",
       "      <td>1</td>\n",
       "      <td>0</td>\n",
       "      <td>1</td>\n",
       "      <td>0</td>\n",
       "      <td>0</td>\n",
       "      <td>0</td>\n",
       "      <td>...</td>\n",
       "      <td>0.0</td>\n",
       "      <td>0.0</td>\n",
       "      <td>0.0</td>\n",
       "      <td>0.0</td>\n",
       "      <td>0.0</td>\n",
       "      <td>0.0</td>\n",
       "      <td>0.0</td>\n",
       "      <td>0.0</td>\n",
       "      <td>0.0</td>\n",
       "      <td>0.0</td>\n",
       "    </tr>\n",
       "    <tr>\n",
       "      <th>1</th>\n",
       "      <td>1.000000</td>\n",
       "      <td>0.162791</td>\n",
       "      <td>0.064897</td>\n",
       "      <td>1</td>\n",
       "      <td>0</td>\n",
       "      <td>0</td>\n",
       "      <td>1</td>\n",
       "      <td>0</td>\n",
       "      <td>0</td>\n",
       "      <td>0</td>\n",
       "      <td>...</td>\n",
       "      <td>0.0</td>\n",
       "      <td>0.0</td>\n",
       "      <td>0.0</td>\n",
       "      <td>0.0</td>\n",
       "      <td>0.0</td>\n",
       "      <td>0.0</td>\n",
       "      <td>0.0</td>\n",
       "      <td>0.0</td>\n",
       "      <td>0.0</td>\n",
       "      <td>0.0</td>\n",
       "    </tr>\n",
       "  </tbody>\n",
       "</table>\n",
       "<p>2 rows × 20088 columns</p>\n",
       "</div>"
      ],
      "text/plain": [
       "   startYear    rating  numVotes  long_runtime  normal_runtime  short_runtime  \\\n",
       "0   0.857143  0.697674  0.147493             0               1              0   \n",
       "1   1.000000  0.162791  0.064897             1               0              0   \n",
       "\n",
       "   english  french  hindi  korean  ...  álvaro  ángel  ángela  åland  åsa  \\\n",
       "0        1       0      0       0  ...     0.0    0.0     0.0    0.0  0.0   \n",
       "1        1       0      0       0  ...     0.0    0.0     0.0    0.0  0.0   \n",
       "\n",
       "   çurgunlu  état  ömer  örjan  úrsula  \n",
       "0       0.0   0.0   0.0    0.0     0.0  \n",
       "1       0.0   0.0   0.0    0.0     0.0  \n",
       "\n",
       "[2 rows x 20088 columns]"
      ]
     },
     "execution_count": 25,
     "metadata": {},
     "output_type": "execute_result"
    }
   ],
   "source": [
    "df1.head(2)"
   ]
  },
  {
   "cell_type": "code",
   "execution_count": null,
   "id": "bc53fe43",
   "metadata": {},
   "outputs": [],
   "source": []
  },
  {
   "cell_type": "code",
   "execution_count": null,
   "id": "fba3ecc6",
   "metadata": {},
   "outputs": [],
   "source": []
  },
  {
   "cell_type": "code",
   "execution_count": null,
   "id": "2bae6cca",
   "metadata": {},
   "outputs": [],
   "source": []
  },
  {
   "cell_type": "code",
   "execution_count": null,
   "id": "62ee70cb",
   "metadata": {},
   "outputs": [],
   "source": []
  },
  {
   "cell_type": "code",
   "execution_count": null,
   "id": "c93ac43f",
   "metadata": {},
   "outputs": [],
   "source": []
  },
  {
   "cell_type": "code",
   "execution_count": null,
   "id": "50feb63c",
   "metadata": {},
   "outputs": [],
   "source": []
  },
  {
   "cell_type": "code",
   "execution_count": null,
   "id": "84b218a6",
   "metadata": {},
   "outputs": [],
   "source": []
  },
  {
   "cell_type": "code",
   "execution_count": null,
   "id": "c85911b9",
   "metadata": {},
   "outputs": [],
   "source": []
  },
  {
   "cell_type": "code",
   "execution_count": null,
   "id": "cc81a527",
   "metadata": {},
   "outputs": [],
   "source": []
  },
  {
   "cell_type": "code",
   "execution_count": null,
   "id": "1444527f",
   "metadata": {},
   "outputs": [],
   "source": []
  },
  {
   "cell_type": "code",
   "execution_count": null,
   "id": "c4acef4b",
   "metadata": {},
   "outputs": [],
   "source": []
  },
  {
   "cell_type": "code",
   "execution_count": null,
   "id": "4aa11bd5",
   "metadata": {},
   "outputs": [],
   "source": []
  },
  {
   "cell_type": "code",
   "execution_count": null,
   "id": "71f9cdf6",
   "metadata": {},
   "outputs": [],
   "source": []
  },
  {
   "cell_type": "code",
   "execution_count": null,
   "id": "38f05792",
   "metadata": {},
   "outputs": [],
   "source": []
  },
  {
   "cell_type": "code",
   "execution_count": 26,
   "id": "122dd8e5",
   "metadata": {},
   "outputs": [],
   "source": [
    "import scipy\n",
    "mat = scipy.sparse.csr_matrix(df1.values)\n",
    "from sklearn.metrics.pairwise import sigmoid_kernel\n",
    "sig1 = sigmoid_kernel(mat,mat)"
   ]
  },
  {
   "cell_type": "code",
   "execution_count": 27,
   "id": "655688fc",
   "metadata": {},
   "outputs": [],
   "source": [
    "np.save('sugg_data.npy', sig1)"
   ]
  },
  {
   "cell_type": "code",
   "execution_count": 28,
   "id": "67e615d8",
   "metadata": {},
   "outputs": [],
   "source": [
    "sig1 = np.load('sugg_data.npy')"
   ]
  },
  {
   "cell_type": "code",
   "execution_count": null,
   "id": "c933036d",
   "metadata": {},
   "outputs": [],
   "source": []
  },
  {
   "cell_type": "code",
   "execution_count": 29,
   "id": "4bc431ef",
   "metadata": {},
   "outputs": [],
   "source": [
    "import pickle\n",
    "copy.to_pickle(\"title_list.pkl\")"
   ]
  },
  {
   "cell_type": "code",
   "execution_count": 30,
   "id": "1dfe7204",
   "metadata": {},
   "outputs": [],
   "source": [
    "df = pd.read_pickle(\"title_list.pkl\")"
   ]
  },
  {
   "cell_type": "code",
   "execution_count": 31,
   "id": "48e2cfb1",
   "metadata": {},
   "outputs": [
    {
     "data": {
      "text/html": [
       "<div>\n",
       "<style scoped>\n",
       "    .dataframe tbody tr th:only-of-type {\n",
       "        vertical-align: middle;\n",
       "    }\n",
       "\n",
       "    .dataframe tbody tr th {\n",
       "        vertical-align: top;\n",
       "    }\n",
       "\n",
       "    .dataframe thead th {\n",
       "        text-align: right;\n",
       "    }\n",
       "</style>\n",
       "<table border=\"1\" class=\"dataframe\">\n",
       "  <thead>\n",
       "    <tr style=\"text-align: right;\">\n",
       "      <th></th>\n",
       "      <th>imdb_id</th>\n",
       "      <th>title</th>\n",
       "      <th>rating</th>\n",
       "      <th>image_url</th>\n",
       "      <th>story</th>\n",
       "      <th>summary</th>\n",
       "      <th>genres</th>\n",
       "    </tr>\n",
       "  </thead>\n",
       "  <tbody>\n",
       "    <tr>\n",
       "      <th>0</th>\n",
       "      <td>tt4052886</td>\n",
       "      <td>Lucifer</td>\n",
       "      <td>8.1</td>\n",
       "      <td>https://m.media-amazon.com/images/M/MV5BNzY1Yj...</td>\n",
       "      <td>Lucifer Morningstar has decided he's had enoug...</td>\n",
       "      <td>Lucifer Morningstar, bored from his sulking li...</td>\n",
       "      <td>Crime,Drama,Fantasy</td>\n",
       "    </tr>\n",
       "    <tr>\n",
       "      <th>1</th>\n",
       "      <td>tt0993840</td>\n",
       "      <td>Army of the Dead</td>\n",
       "      <td>5.8</td>\n",
       "      <td>https://m.media-amazon.com/images/M/MV5BNGY0Nz...</td>\n",
       "      <td>Following a zombie outbreak in Las Vegas, a gr...</td>\n",
       "      <td>With the abandoned, walled city of Las Vegas o...</td>\n",
       "      <td>Action,Crime,Horror</td>\n",
       "    </tr>\n",
       "    <tr>\n",
       "      <th>2</th>\n",
       "      <td>tt7255502</td>\n",
       "      <td>The Kominsky Method</td>\n",
       "      <td>8.2</td>\n",
       "      <td>https://m.media-amazon.com/images/M/MV5BMzA0YT...</td>\n",
       "      <td>An aging actor, who long ago enjoyed a brush w...</td>\n",
       "      <td>Michael Douglas plays an actor who made it big...</td>\n",
       "      <td>Comedy,Drama</td>\n",
       "    </tr>\n",
       "    <tr>\n",
       "      <th>3</th>\n",
       "      <td>tt0108778</td>\n",
       "      <td>Friends</td>\n",
       "      <td>8.9</td>\n",
       "      <td>https://m.media-amazon.com/images/M/MV5BNDVkYj...</td>\n",
       "      <td>Follows the personal and professional lives of...</td>\n",
       "      <td>Ross Geller, Rachel Green, Monica Geller, Joey...</td>\n",
       "      <td>Comedy,Romance</td>\n",
       "    </tr>\n",
       "    <tr>\n",
       "      <th>4</th>\n",
       "      <td>tt9251798</td>\n",
       "      <td>Ragnarok</td>\n",
       "      <td>7.5</td>\n",
       "      <td>https://m.media-amazon.com/images/M/MV5BODM3NT...</td>\n",
       "      <td>A small Norwegian town experiencing warm winte...</td>\n",
       "      <td>In the small fictional town of Edda coming of ...</td>\n",
       "      <td>Action,Drama,Fantasy</td>\n",
       "    </tr>\n",
       "  </tbody>\n",
       "</table>\n",
       "</div>"
      ],
      "text/plain": [
       "     imdb_id                title  rating  \\\n",
       "0  tt4052886              Lucifer     8.1   \n",
       "1  tt0993840     Army of the Dead     5.8   \n",
       "2  tt7255502  The Kominsky Method     8.2   \n",
       "3  tt0108778              Friends     8.9   \n",
       "4  tt9251798             Ragnarok     7.5   \n",
       "\n",
       "                                           image_url  \\\n",
       "0  https://m.media-amazon.com/images/M/MV5BNzY1Yj...   \n",
       "1  https://m.media-amazon.com/images/M/MV5BNGY0Nz...   \n",
       "2  https://m.media-amazon.com/images/M/MV5BMzA0YT...   \n",
       "3  https://m.media-amazon.com/images/M/MV5BNDVkYj...   \n",
       "4  https://m.media-amazon.com/images/M/MV5BODM3NT...   \n",
       "\n",
       "                                               story  \\\n",
       "0  Lucifer Morningstar has decided he's had enoug...   \n",
       "1  Following a zombie outbreak in Las Vegas, a gr...   \n",
       "2  An aging actor, who long ago enjoyed a brush w...   \n",
       "3  Follows the personal and professional lives of...   \n",
       "4  A small Norwegian town experiencing warm winte...   \n",
       "\n",
       "                                             summary                genres  \n",
       "0  Lucifer Morningstar, bored from his sulking li...   Crime,Drama,Fantasy  \n",
       "1  With the abandoned, walled city of Las Vegas o...   Action,Crime,Horror  \n",
       "2  Michael Douglas plays an actor who made it big...          Comedy,Drama  \n",
       "3  Ross Geller, Rachel Green, Monica Geller, Joey...        Comedy,Romance  \n",
       "4  In the small fictional town of Edda coming of ...  Action,Drama,Fantasy  "
      ]
     },
     "execution_count": 31,
     "metadata": {},
     "output_type": "execute_result"
    }
   ],
   "source": [
    "df.head()"
   ]
  },
  {
   "cell_type": "code",
   "execution_count": 32,
   "id": "83fabfbe",
   "metadata": {},
   "outputs": [],
   "source": [
    "index = pd.Series(df.index, index = df.title).drop_duplicates()"
   ]
  },
  {
   "cell_type": "code",
   "execution_count": 33,
   "id": "2b48e796",
   "metadata": {},
   "outputs": [],
   "source": [
    "def recommend(title, sig=sig1):\n",
    "    idx = index[title]\n",
    "    scores = list(enumerate(sig1[idx]))\n",
    "    scores = sorted(scores, key=lambda x:x[1], reverse=True)\n",
    "    scores= scores[1:10]\n",
    "    mov_index = [i[0] for i in scores]\n",
    "    return df.iloc[mov_index]['imdb_id']"
   ]
  },
  {
   "cell_type": "code",
   "execution_count": 34,
   "id": "179b7939",
   "metadata": {},
   "outputs": [
    {
     "data": {
      "text/plain": [
       "1524    tt11905720\n",
       "1172     tt8069036\n",
       "131      tt5675620\n",
       "2098    tt11725706\n",
       "2133     tt5606154\n",
       "1755     tt8105958\n",
       "2306    tt10655506\n",
       "137      tt3322312\n",
       "2046     tt9359294\n",
       "Name: imdb_id, dtype: object"
      ]
     },
     "execution_count": 34,
     "metadata": {},
     "output_type": "execute_result"
    }
   ],
   "source": [
    "recommend(\"Sacred Games\")"
   ]
  },
  {
   "cell_type": "code",
   "execution_count": 65,
   "id": "13b2634c",
   "metadata": {},
   "outputs": [],
   "source": [
    "index = df[df['imdb_id']=='tt10655506'].index.values"
   ]
  },
  {
   "cell_type": "code",
   "execution_count": 68,
   "id": "68d94c8a",
   "metadata": {},
   "outputs": [
    {
     "data": {
      "text/plain": [
       "'Masaba Masaba'"
      ]
     },
     "execution_count": 68,
     "metadata": {},
     "output_type": "execute_result"
    }
   ],
   "source": [
    "df.at[int(index),'title']"
   ]
  },
  {
   "cell_type": "code",
   "execution_count": null,
   "id": "0de4ed5a",
   "metadata": {},
   "outputs": [],
   "source": []
  },
  {
   "cell_type": "code",
   "execution_count": 69,
   "id": "8012d9f8",
   "metadata": {},
   "outputs": [],
   "source": [
    "def return_details(imdbID):\n",
    "    details = {}\n",
    "    index = df[df['imdb_id']==imdbID].index.values\n",
    "    details['image_url'] = df.at[int(index),'image_url']\n",
    "    details['title'] = df.at[int(index),'title']\n",
    "    try:\n",
    "    \ttry:\n",
    "    \t\tdetails['summary'] = df.at[int(index),'summary']\n",
    "    \texcept:\n",
    "    \t\tdetails['summary'] = df.at[int(index),'story']\n",
    "    except:\n",
    "    \tdetails['summary'] = \"Unfortunately no Summary Found !\"\n",
    "    details['rating'] = df.at[int(index),'rating']\n",
    "    details['genres'] = df.at[int(index),'genres']       \n",
    "    return details   \n",
    "  \n",
    "#     querystring = {\"tconst\": imdbID}\n",
    "#     response = requests.request(\"GET\", url, headers=headers, params=querystring)\n",
    "#     json_data = response.json()\n",
    "#     details = {}\n",
    "#     details['image_url'] = json_data['title']['image']['url']\n",
    "#     details['title'] = json_data['title']['title']\n",
    "#     try:\n",
    "#     \ttry:\n",
    "#     \t\tdetails['summary'] = json_data['plotOutline']['text']\n",
    "#     \texcept:\n",
    "#     \t\tdetails['summary'] = json_data['plotSummary']['text']\n",
    "#     except:\n",
    "#     \tdetails['summary'] = \"Unfortunately no Summary Found !\"\n",
    "\n",
    "#     details['rating'] = json_data['ratings']['rating']\n",
    "#     details['genres'] = str(json_data['genres']).replace(\"[\",\"\").replace(\"]\",\"\").replace(\"'\",\"\")\n",
    "#     return details  "
   ]
  },
  {
   "cell_type": "code",
   "execution_count": 70,
   "id": "a0b8fbad",
   "metadata": {},
   "outputs": [
    {
     "name": "stdout",
     "output_type": "stream",
     "text": [
      "{'image_url': 'https://m.media-amazon.com/images/M/MV5BYzc4ZmFhZjItOWJjMy00YzhiLTkxMDAtNWUyNjIyOTJkYmY3XkEyXkFqcGdeQXVyNDAzNDk0MTQ@._V1_FMjpg_UX1000_.jpg', 'title': 'She', 'summary': \"An undercover assignment to expose a drug ring becomes a timid Mumbai constable's road to empowerment as she realizes her dormant sexuality's potential.\", 'rating': 6.5, 'genres': 'Crime,Drama'}\n"
     ]
    }
   ],
   "source": [
    "print(return_details('tt11905720'))"
   ]
  },
  {
   "cell_type": "code",
   "execution_count": null,
   "id": "39eed3b2",
   "metadata": {},
   "outputs": [],
   "source": []
  },
  {
   "cell_type": "code",
   "execution_count": null,
   "id": "7c5fe459",
   "metadata": {},
   "outputs": [],
   "source": []
  },
  {
   "cell_type": "code",
   "execution_count": null,
   "id": "603c43dc",
   "metadata": {},
   "outputs": [],
   "source": []
  },
  {
   "cell_type": "code",
   "execution_count": null,
   "id": "da0ae248",
   "metadata": {},
   "outputs": [],
   "source": []
  },
  {
   "cell_type": "code",
   "execution_count": null,
   "id": "b583232c",
   "metadata": {},
   "outputs": [],
   "source": []
  },
  {
   "cell_type": "code",
   "execution_count": null,
   "id": "4888bc77",
   "metadata": {},
   "outputs": [],
   "source": []
  },
  {
   "cell_type": "code",
   "execution_count": null,
   "id": "85db644f",
   "metadata": {},
   "outputs": [],
   "source": []
  },
  {
   "cell_type": "code",
   "execution_count": null,
   "id": "0661195b",
   "metadata": {},
   "outputs": [],
   "source": []
  },
  {
   "cell_type": "code",
   "execution_count": null,
   "id": "e34b0cc0",
   "metadata": {},
   "outputs": [],
   "source": []
  },
  {
   "cell_type": "code",
   "execution_count": null,
   "id": "174587d4",
   "metadata": {},
   "outputs": [],
   "source": []
  },
  {
   "cell_type": "code",
   "execution_count": null,
   "id": "75597bba",
   "metadata": {},
   "outputs": [],
   "source": []
  },
  {
   "cell_type": "code",
   "execution_count": null,
   "id": "fdce82c1",
   "metadata": {},
   "outputs": [],
   "source": []
  },
  {
   "cell_type": "code",
   "execution_count": null,
   "id": "f0a91ace",
   "metadata": {},
   "outputs": [],
   "source": []
  },
  {
   "cell_type": "code",
   "execution_count": null,
   "id": "4cd4f772",
   "metadata": {},
   "outputs": [],
   "source": []
  },
  {
   "cell_type": "code",
   "execution_count": null,
   "id": "69b02dec",
   "metadata": {},
   "outputs": [],
   "source": []
  },
  {
   "cell_type": "code",
   "execution_count": null,
   "id": "30de5817",
   "metadata": {},
   "outputs": [],
   "source": []
  },
  {
   "cell_type": "code",
   "execution_count": null,
   "id": "297699f8",
   "metadata": {},
   "outputs": [],
   "source": []
  },
  {
   "cell_type": "code",
   "execution_count": null,
   "id": "fe28e5d2",
   "metadata": {},
   "outputs": [],
   "source": []
  },
  {
   "cell_type": "code",
   "execution_count": null,
   "id": "c6d4a248",
   "metadata": {},
   "outputs": [],
   "source": []
  },
  {
   "cell_type": "code",
   "execution_count": null,
   "id": "009dae03",
   "metadata": {},
   "outputs": [],
   "source": []
  },
  {
   "cell_type": "code",
   "execution_count": null,
   "id": "1008c9ca",
   "metadata": {},
   "outputs": [],
   "source": []
  },
  {
   "cell_type": "code",
   "execution_count": null,
   "id": "6a786e4e",
   "metadata": {},
   "outputs": [],
   "source": []
  },
  {
   "cell_type": "code",
   "execution_count": null,
   "id": "95631e7f",
   "metadata": {},
   "outputs": [],
   "source": []
  },
  {
   "cell_type": "code",
   "execution_count": null,
   "id": "74321e1b",
   "metadata": {},
   "outputs": [],
   "source": []
  },
  {
   "cell_type": "code",
   "execution_count": null,
   "id": "210cb05a",
   "metadata": {},
   "outputs": [],
   "source": []
  },
  {
   "cell_type": "code",
   "execution_count": null,
   "id": "dd5019d9",
   "metadata": {},
   "outputs": [],
   "source": []
  },
  {
   "cell_type": "code",
   "execution_count": null,
   "id": "8fdd1c53",
   "metadata": {},
   "outputs": [],
   "source": []
  },
  {
   "cell_type": "code",
   "execution_count": null,
   "id": "1766cfe2",
   "metadata": {},
   "outputs": [],
   "source": []
  },
  {
   "cell_type": "code",
   "execution_count": null,
   "id": "5be30f0f",
   "metadata": {},
   "outputs": [],
   "source": []
  },
  {
   "cell_type": "code",
   "execution_count": null,
   "id": "6746d992",
   "metadata": {},
   "outputs": [],
   "source": []
  },
  {
   "cell_type": "code",
   "execution_count": null,
   "id": "c35c395b",
   "metadata": {},
   "outputs": [],
   "source": []
  },
  {
   "cell_type": "code",
   "execution_count": null,
   "id": "f0792b33",
   "metadata": {},
   "outputs": [],
   "source": []
  },
  {
   "cell_type": "code",
   "execution_count": null,
   "id": "92a3472a",
   "metadata": {},
   "outputs": [],
   "source": []
  },
  {
   "cell_type": "code",
   "execution_count": null,
   "id": "74148092",
   "metadata": {},
   "outputs": [],
   "source": []
  },
  {
   "cell_type": "code",
   "execution_count": null,
   "id": "c98b3207",
   "metadata": {},
   "outputs": [],
   "source": []
  },
  {
   "cell_type": "code",
   "execution_count": null,
   "id": "90d29284",
   "metadata": {},
   "outputs": [],
   "source": []
  },
  {
   "cell_type": "code",
   "execution_count": null,
   "id": "2dff28cb",
   "metadata": {},
   "outputs": [],
   "source": []
  }
 ],
 "metadata": {
  "kernelspec": {
   "display_name": "Python 3",
   "language": "python",
   "name": "python3"
  },
  "language_info": {
   "codemirror_mode": {
    "name": "ipython",
    "version": 3
   },
   "file_extension": ".py",
   "mimetype": "text/x-python",
   "name": "python",
   "nbconvert_exporter": "python",
   "pygments_lexer": "ipython3",
   "version": "3.8.8"
  }
 },
 "nbformat": 4,
 "nbformat_minor": 5
}
