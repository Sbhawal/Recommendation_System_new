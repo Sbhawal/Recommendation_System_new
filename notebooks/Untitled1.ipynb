{
 "cells": [
  {
   "cell_type": "code",
   "execution_count": 1,
   "id": "386dbd02",
   "metadata": {},
   "outputs": [],
   "source": [
    "# Use IMDBPY INSTEAD\n",
    "import requests"
   ]
  },
  {
   "cell_type": "code",
   "execution_count": 2,
   "id": "0fb7efed",
   "metadata": {},
   "outputs": [],
   "source": [
    "RAPIDAPI_KEY  = \"f0b674f502msh2fd7bf7d01e3e9bp127b2ajsn16ff895b22f0\"\n",
    "RAPIDAPI_HOST =  \"imdb8.p.rapidapi.com\"\n",
    "\n",
    "url = \"https://imdb8.p.rapidapi.com/title/get-overview-details\"\n",
    "\n",
    "headers = {\n",
    "    'x-rapidapi-host': RAPIDAPI_HOST,\n",
    "    'x-rapidapi-key': RAPIDAPI_KEY\n",
    "    }"
   ]
  },
  {
   "cell_type": "code",
   "execution_count": null,
   "id": "f6fc244c",
   "metadata": {},
   "outputs": [],
   "source": []
  },
  {
   "cell_type": "code",
   "execution_count": 3,
   "id": "9c712d24",
   "metadata": {},
   "outputs": [],
   "source": [
    "def return_details(imdbID):\n",
    "    querystring = {\"tconst\": imdbID}\n",
    "    response = requests.request(\"GET\", url, headers=headers, params=querystring)\n",
    "    json_data = response.json()\n",
    "    details = {}\n",
    "    details['image_url'] = json_data['title']['image']['url']\n",
    "    details['title'] = json_data['title']['title']\n",
    "    details['summary'] = json_data['plotSummary']['text']\n",
    "    details['rating'] = json_data['ratings']['rating']\n",
    "    details['genres'] = str(json_data['genres']).replace(\"[\",\"\").replace(\"]\",\"\").replace(\"'\",\"\")\n",
    "    \n",
    "    return details\n",
    "    "
   ]
  },
  {
   "cell_type": "code",
   "execution_count": 4,
   "id": "330dc1af",
   "metadata": {},
   "outputs": [
    {
     "data": {
      "text/plain": [
       "{'image_url': 'https://m.media-amazon.com/images/M/MV5BYTRiNDQwYzAtMzVlZS00NTI5LWJjYjUtMzkwNTUzMWMxZTllXkEyXkFqcGdeQXVyNDIzMzcwNjc@._V1_.jpg',\n",
       " 'title': 'Game of Thrones',\n",
       " 'summary': 'In the mythical continent of Westeros, several powerful families fight for control of the Seven Kingdoms. As conflict erupts in the kingdoms of men, an ancient enemy rises once again to threaten them all. Meanwhile, the last heirs of a recently usurped dynasty plot to take back their homeland from across the Narrow Sea.',\n",
       " 'rating': 9.2,\n",
       " 'genres': 'Action, Adventure, Drama, Fantasy'}"
      ]
     },
     "execution_count": 4,
     "metadata": {},
     "output_type": "execute_result"
    }
   ],
   "source": [
    "return_details(\"tt0944947\")"
   ]
  },
  {
   "cell_type": "code",
   "execution_count": null,
   "id": "b293a02c",
   "metadata": {},
   "outputs": [],
   "source": []
  },
  {
   "cell_type": "code",
   "execution_count": 10,
   "id": "9038f8de",
   "metadata": {},
   "outputs": [
    {
     "data": {
      "text/plain": [
       "'Nine noble families fight for control over the lands of Westeros, while an ancient enemy returns after being dormant for millennia.'"
      ]
     },
     "execution_count": 10,
     "metadata": {},
     "output_type": "execute_result"
    }
   ],
   "source": [
    "response.json()['plotOutline']['text']"
   ]
  },
  {
   "cell_type": "code",
   "execution_count": 6,
   "id": "ac47bdba",
   "metadata": {},
   "outputs": [],
   "source": [
    "querystring = {\"tconst\": \"tt0944947\"}\n",
    "response = requests.request(\"GET\", url, headers=headers, params=querystring)"
   ]
  },
  {
   "cell_type": "code",
   "execution_count": null,
   "id": "4612372e",
   "metadata": {},
   "outputs": [],
   "source": [
    "movies = { 1:\n",
    "{'title': 'Game of Thrones',\n",
    "'image_url': 'https://m.media-amazon.com/images/M/MV5BYTRiNDQwYzAtMzVlZS00NTI5LWJjYjUtMzkwNTUzMWMxZTllXkEyXkFqcGdeQXVyNDIzMzcwNjc@._V1_.jpg',\n",
    "'genres': 'Action, Adventure, Drama, Fantasy',\n",
    "'summary': 'In the mythical continent of Westeros, several powerful families fight for control of the Seven Kingdoms. As conflict erupts in the kingdoms of men, an ancient enemy rises once again to threaten them all. Meanwhile, the last heirs of a recently usurped dynasty plot to take back their homeland from across the Narrow Sea.',\n",
    "'rating': 9.2},\n",
    "2:\n",
    "{'title': 'Game of Thrones',\n",
    "'image_url': 'https://m.media-amazon.com/images/M/MV5BYTRiNDQwYzAtMzVlZS00NTI5LWJjYjUtMzkwNTUzMWMxZTllXkEyXkFqcGdeQXVyNDIzMzcwNjc@._V1_.jpg',\n",
    "'genres': 'Action, Adventure, Drama, Fantasy',\n",
    "'summary': 'In the mythical continent of Westeros, several powerful families fight for control of the Seven Kingdoms. As conflict erupts in the kingdoms of men, an ancient enemy rises once again to threaten them all. Meanwhile, the last heirs of a recently usurped dynasty plot to take back their homeland from across the Narrow Sea.',\n",
    "'rating': 9.2},\n",
    "3:\n",
    "{'title': 'Game of Thrones',\n",
    "'image_url': 'https://m.media-amazon.com/images/M/MV5BYTRiNDQwYzAtMzVlZS00NTI5LWJjYjUtMzkwNTUzMWMxZTllXkEyXkFqcGdeQXVyNDIzMzcwNjc@._V1_.jpg',\n",
    "'genres': 'Action, Adventure, Drama, Fantasy',\n",
    "'summary': 'In the mythical continent of Westeros, several powerful families fight for control of the Seven Kingdoms. As conflict erupts in the kingdoms of men, an ancient enemy rises once again to threaten them all. Meanwhile, the last heirs of a recently usurped dynasty plot to take back their homeland from across the Narrow Sea.',\n",
    "'rating': 9.2},\n",
    "4:\n",
    "{'title': 'Game of Thrones',\n",
    "'image_url': 'https://m.media-amazon.com/images/M/MV5BYTRiNDQwYzAtMzVlZS00NTI5LWJjYjUtMzkwNTUzMWMxZTllXkEyXkFqcGdeQXVyNDIzMzcwNjc@._V1_.jpg',\n",
    "'genres': 'Action, Adventure, Drama, Fantasy',\n",
    "'summary': 'In the mythical continent of Westeros, several powerful families fight for control of the Seven Kingdoms. As conflict erupts in the kingdoms of men, an ancient enemy rises once again to threaten them all. Meanwhile, the last heirs of a recently usurped dynasty plot to take back their homeland from across the Narrow Sea.',\n",
    "'rating': 9.2},\n",
    "5:\n",
    "{'title': 'Game of Thrones',\n",
    "'image_url': 'https://m.media-amazon.com/images/M/MV5BYTRiNDQwYzAtMzVlZS00NTI5LWJjYjUtMzkwNTUzMWMxZTllXkEyXkFqcGdeQXVyNDIzMzcwNjc@._V1_.jpg',\n",
    "'genres': 'Action, Adventure, Drama, Fantasy',\n",
    "'summary': 'In the mythical continent of Westeros, several powerful families fight for control of the Seven Kingdoms. As conflict erupts in the kingdoms of men, an ancient enemy rises once again to threaten them all. Meanwhile, the last heirs of a recently usurped dynasty plot to take back their homeland from across the Narrow Sea.',\n",
    "'rating': 9.2}\n",
    "}\n"
   ]
  },
  {
   "cell_type": "code",
   "execution_count": null,
   "id": "f78f438e",
   "metadata": {},
   "outputs": [],
   "source": []
  },
  {
   "cell_type": "code",
   "execution_count": null,
   "id": "53aef2e8",
   "metadata": {},
   "outputs": [],
   "source": []
  },
  {
   "cell_type": "code",
   "execution_count": null,
   "id": "00b20592",
   "metadata": {},
   "outputs": [],
   "source": []
  },
  {
   "cell_type": "code",
   "execution_count": null,
   "id": "dbeb8e68",
   "metadata": {},
   "outputs": [],
   "source": []
  },
  {
   "cell_type": "code",
   "execution_count": null,
   "id": "1962ab73",
   "metadata": {},
   "outputs": [],
   "source": []
  },
  {
   "cell_type": "code",
   "execution_count": null,
   "id": "9422105c",
   "metadata": {},
   "outputs": [],
   "source": []
  },
  {
   "cell_type": "code",
   "execution_count": null,
   "id": "afb092c2",
   "metadata": {},
   "outputs": [],
   "source": []
  },
  {
   "cell_type": "code",
   "execution_count": null,
   "id": "403d9915",
   "metadata": {},
   "outputs": [],
   "source": []
  },
  {
   "cell_type": "code",
   "execution_count": null,
   "id": "3b4c3e7a",
   "metadata": {},
   "outputs": [],
   "source": []
  },
  {
   "cell_type": "code",
   "execution_count": null,
   "id": "9a9d9f62",
   "metadata": {},
   "outputs": [],
   "source": []
  },
  {
   "cell_type": "code",
   "execution_count": null,
   "id": "0bcb1e44",
   "metadata": {},
   "outputs": [],
   "source": []
  },
  {
   "cell_type": "code",
   "execution_count": null,
   "id": "3f97b079",
   "metadata": {},
   "outputs": [],
   "source": []
  },
  {
   "cell_type": "code",
   "execution_count": null,
   "id": "3f574bd6",
   "metadata": {},
   "outputs": [],
   "source": []
  },
  {
   "cell_type": "code",
   "execution_count": null,
   "id": "efb3579b",
   "metadata": {},
   "outputs": [],
   "source": []
  },
  {
   "cell_type": "code",
   "execution_count": null,
   "id": "93ace32b",
   "metadata": {},
   "outputs": [],
   "source": []
  }
 ],
 "metadata": {
  "kernelspec": {
   "display_name": "Python 3",
   "language": "python",
   "name": "python3"
  },
  "language_info": {
   "codemirror_mode": {
    "name": "ipython",
    "version": 3
   },
   "file_extension": ".py",
   "mimetype": "text/x-python",
   "name": "python",
   "nbconvert_exporter": "python",
   "pygments_lexer": "ipython3",
   "version": "3.8.8"
  }
 },
 "nbformat": 4,
 "nbformat_minor": 5
}
