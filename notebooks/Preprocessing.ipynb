{
 "cells": [
  {
   "cell_type": "code",
   "execution_count": null,
   "id": "503f8ac9",
   "metadata": {},
   "outputs": [],
   "source": []
  },
  {
   "cell_type": "code",
   "execution_count": 1,
   "id": "f25f783c",
   "metadata": {},
   "outputs": [],
   "source": [
    "import pandas as pd\n",
    "import numpy as np"
   ]
  },
  {
   "cell_type": "code",
   "execution_count": null,
   "id": "3cb5c271",
   "metadata": {},
   "outputs": [],
   "source": []
  },
  {
   "cell_type": "code",
   "execution_count": 2,
   "id": "ca91a0b3",
   "metadata": {},
   "outputs": [
    {
     "name": "stderr",
     "output_type": "stream",
     "text": [
      "C:\\Users\\mailt\\anaconda3\\lib\\site-packages\\IPython\\core\\interactiveshell.py:3165: DtypeWarning: Columns (4,5) have mixed types.Specify dtype option on import or set low_memory=False.\n",
      "  has_raised = await self.run_ast_nodes(code_ast.body, cell_name,\n",
      "C:\\Users\\mailt\\anaconda3\\lib\\site-packages\\IPython\\core\\interactiveshell.py:3165: DtypeWarning: Columns (7) have mixed types.Specify dtype option on import or set low_memory=False.\n",
      "  has_raised = await self.run_ast_nodes(code_ast.body, cell_name,\n"
     ]
    }
   ],
   "source": [
    "df1 = pd.read_csv(r\"C:\\Users\\mailt\\Desktop\\Github Projects\\Recommendation-Systems\\datasets\\title.basics.tsv\", sep=\"\\t\")\n",
    "df1.drop(columns=[\"primaryTitle\"], inplace=True)\n",
    "\n",
    "df2 = pd.read_csv(r\"C:\\Users\\mailt\\Desktop\\Github Projects\\Recommendation-Systems\\datasets\\title.akas.tsv\", sep=\"\\t\")\n",
    "df2.drop(columns=[\"ordering\", \"region\", \"attributes\",\"language\",\"title\"], inplace=True)\n",
    "df2.reset_index(inplace=True, drop=True)\n",
    "df2.rename(columns={\"titleId\": \"tconst\"},inplace=True)\n",
    "\n",
    "df3 = pd.read_csv(r\"C:\\Users\\mailt\\Desktop\\Github Projects\\Recommendation-Systems\\datasets\\ratings.tsv\", sep=\"\\t\")\n",
    "\n",
    "df = pd.merge(df1, df2, on='tconst')\n",
    "df = pd.merge(df, df3, on='tconst')\n",
    "\n",
    "\n",
    "df.isOriginalTitle = [int(x) for x in df.isOriginalTitle]\n",
    "df.averageRating = [int(x*100) for x in df.averageRating]\n",
    "df = df[df.isOriginalTitle == 1]\n",
    "df.drop(columns=[\"isOriginalTitle\"], inplace=True)\n",
    "df.reset_index(inplace=True, drop=True)"
   ]
  },
  {
   "cell_type": "code",
   "execution_count": null,
   "id": "48bebad0",
   "metadata": {},
   "outputs": [],
   "source": []
  },
  {
   "cell_type": "code",
   "execution_count": null,
   "id": "92017fda",
   "metadata": {},
   "outputs": [],
   "source": []
  },
  {
   "cell_type": "code",
   "execution_count": null,
   "id": "d29fba77",
   "metadata": {},
   "outputs": [],
   "source": []
  },
  {
   "cell_type": "code",
   "execution_count": null,
   "id": "7c59c077",
   "metadata": {},
   "outputs": [],
   "source": []
  },
  {
   "cell_type": "code",
   "execution_count": 3,
   "id": "6b20f93f",
   "metadata": {},
   "outputs": [],
   "source": [
    "df.drop(df[df['titleType'] == \"short\"].index, inplace = True)\n",
    "df.drop(df[df['titleType'] == \"movie\"].index, inplace = True)\n",
    "df.drop(df[df['titleType'] == \"video\"].index, inplace = True)\n",
    "df.drop(df[df['titleType'] == \"videoGame\"].index, inplace = True)\n",
    "df.drop(df[df['titleType'] == \"tvMovie\"].index, inplace = True)\n",
    "df.drop(df[df['titleType'] == \"tvMiniSeries\"].index, inplace = True)\n",
    "\n",
    "df.reset_index(inplace=True, drop=True)"
   ]
  },
  {
   "cell_type": "code",
   "execution_count": null,
   "id": "56efddfe",
   "metadata": {},
   "outputs": [],
   "source": []
  },
  {
   "cell_type": "code",
   "execution_count": 4,
   "id": "1664abf7",
   "metadata": {},
   "outputs": [],
   "source": [
    "df = df[df.numVotes >= 500 ]\n",
    "df = df[df.averageRating >= 500 ]\n",
    "\n",
    "df = df[df.runtimeMinutes != \"\\\\N\" ]\n",
    "df = df[df.startYear != \"\\\\N\" ]\n",
    "df = df[df.genres != \"\\\\N\" ]\n",
    "\n",
    "df.startYear = [int(x) for x in df.startYear]\n",
    "df = df[df.startYear >= 2000 ]\n",
    "df.runtimeMinutes = [int(x) for x in df.runtimeMinutes]\n",
    "df = df[df.runtimeMinutes >= 15 ]"
   ]
  },
  {
   "cell_type": "code",
   "execution_count": null,
   "id": "782943dd",
   "metadata": {},
   "outputs": [],
   "source": []
  },
  {
   "cell_type": "code",
   "execution_count": 5,
   "id": "ba7870aa",
   "metadata": {},
   "outputs": [
    {
     "data": {
      "text/plain": [
       "(7116, 11)"
      ]
     },
     "execution_count": 5,
     "metadata": {},
     "output_type": "execute_result"
    }
   ],
   "source": [
    "df.shape"
   ]
  },
  {
   "cell_type": "code",
   "execution_count": 6,
   "id": "6cf942eb",
   "metadata": {},
   "outputs": [],
   "source": [
    "df.drop(columns=[\"titleType\", \"isAdult\", \"endYear\",\"types\"], inplace=True)"
   ]
  },
  {
   "cell_type": "code",
   "execution_count": null,
   "id": "f89b7211",
   "metadata": {},
   "outputs": [],
   "source": []
  },
  {
   "cell_type": "code",
   "execution_count": 7,
   "id": "abd471bc",
   "metadata": {},
   "outputs": [
    {
     "data": {
      "text/html": [
       "<div>\n",
       "<style scoped>\n",
       "    .dataframe tbody tr th:only-of-type {\n",
       "        vertical-align: middle;\n",
       "    }\n",
       "\n",
       "    .dataframe tbody tr th {\n",
       "        vertical-align: top;\n",
       "    }\n",
       "\n",
       "    .dataframe thead th {\n",
       "        text-align: right;\n",
       "    }\n",
       "</style>\n",
       "<table border=\"1\" class=\"dataframe\">\n",
       "  <thead>\n",
       "    <tr style=\"text-align: right;\">\n",
       "      <th></th>\n",
       "      <th>tconst</th>\n",
       "      <th>originalTitle</th>\n",
       "      <th>startYear</th>\n",
       "      <th>runtimeMinutes</th>\n",
       "      <th>genres</th>\n",
       "      <th>averageRating</th>\n",
       "      <th>numVotes</th>\n",
       "    </tr>\n",
       "  </thead>\n",
       "  <tbody>\n",
       "    <tr>\n",
       "      <th>6970</th>\n",
       "      <td>tt0160904</td>\n",
       "      <td>Spooks</td>\n",
       "      <td>2002</td>\n",
       "      <td>60</td>\n",
       "      <td>Action,Crime,Drama</td>\n",
       "      <td>819</td>\n",
       "      <td>15181</td>\n",
       "    </tr>\n",
       "    <tr>\n",
       "      <th>7475</th>\n",
       "      <td>tt0167701</td>\n",
       "      <td>Randall &amp; Hopkirk (Deceased)</td>\n",
       "      <td>2000</td>\n",
       "      <td>50</td>\n",
       "      <td>Comedy,Crime,Fantasy</td>\n",
       "      <td>660</td>\n",
       "      <td>630</td>\n",
       "    </tr>\n",
       "    <tr>\n",
       "      <th>7969</th>\n",
       "      <td>tt0178132</td>\n",
       "      <td>Don Matteo</td>\n",
       "      <td>2000</td>\n",
       "      <td>50</td>\n",
       "      <td>Comedy,Crime,Drama</td>\n",
       "      <td>600</td>\n",
       "      <td>1144</td>\n",
       "    </tr>\n",
       "    <tr>\n",
       "      <th>8205</th>\n",
       "      <td>tt0182919</td>\n",
       "      <td>Murder with Too Many Notes</td>\n",
       "      <td>2000</td>\n",
       "      <td>98</td>\n",
       "      <td>Crime,Drama,Mystery</td>\n",
       "      <td>680</td>\n",
       "      <td>1516</td>\n",
       "    </tr>\n",
       "    <tr>\n",
       "      <th>8941</th>\n",
       "      <td>tt0199421</td>\n",
       "      <td>Higher Ground</td>\n",
       "      <td>2000</td>\n",
       "      <td>60</td>\n",
       "      <td>Drama</td>\n",
       "      <td>819</td>\n",
       "      <td>1429</td>\n",
       "    </tr>\n",
       "  </tbody>\n",
       "</table>\n",
       "</div>"
      ],
      "text/plain": [
       "         tconst                 originalTitle  startYear  runtimeMinutes  \\\n",
       "6970  tt0160904                        Spooks       2002              60   \n",
       "7475  tt0167701  Randall & Hopkirk (Deceased)       2000              50   \n",
       "7969  tt0178132                    Don Matteo       2000              50   \n",
       "8205  tt0182919    Murder with Too Many Notes       2000              98   \n",
       "8941  tt0199421                 Higher Ground       2000              60   \n",
       "\n",
       "                    genres  averageRating  numVotes  \n",
       "6970    Action,Crime,Drama            819     15181  \n",
       "7475  Comedy,Crime,Fantasy            660       630  \n",
       "7969    Comedy,Crime,Drama            600      1144  \n",
       "8205   Crime,Drama,Mystery            680      1516  \n",
       "8941                 Drama            819      1429  "
      ]
     },
     "execution_count": 7,
     "metadata": {},
     "output_type": "execute_result"
    }
   ],
   "source": [
    "df.head()"
   ]
  },
  {
   "cell_type": "code",
   "execution_count": null,
   "id": "cf84849d",
   "metadata": {},
   "outputs": [],
   "source": []
  },
  {
   "cell_type": "code",
   "execution_count": 8,
   "id": "22849fb1",
   "metadata": {},
   "outputs": [
    {
     "data": {
      "text/html": [
       "<div>\n",
       "<style scoped>\n",
       "    .dataframe tbody tr th:only-of-type {\n",
       "        vertical-align: middle;\n",
       "    }\n",
       "\n",
       "    .dataframe tbody tr th {\n",
       "        vertical-align: top;\n",
       "    }\n",
       "\n",
       "    .dataframe thead th {\n",
       "        text-align: right;\n",
       "    }\n",
       "</style>\n",
       "<table border=\"1\" class=\"dataframe\">\n",
       "  <thead>\n",
       "    <tr style=\"text-align: right;\">\n",
       "      <th></th>\n",
       "      <th>startYear</th>\n",
       "      <th>runtimeMinutes</th>\n",
       "      <th>averageRating</th>\n",
       "      <th>numVotes</th>\n",
       "    </tr>\n",
       "  </thead>\n",
       "  <tbody>\n",
       "    <tr>\n",
       "      <th>count</th>\n",
       "      <td>7116.000000</td>\n",
       "      <td>7116.000000</td>\n",
       "      <td>7116.000000</td>\n",
       "      <td>7.116000e+03</td>\n",
       "    </tr>\n",
       "    <tr>\n",
       "      <th>mean</th>\n",
       "      <td>2012.771220</td>\n",
       "      <td>53.869449</td>\n",
       "      <td>745.120714</td>\n",
       "      <td>1.158796e+04</td>\n",
       "    </tr>\n",
       "    <tr>\n",
       "      <th>std</th>\n",
       "      <td>5.806744</td>\n",
       "      <td>57.528634</td>\n",
       "      <td>90.335517</td>\n",
       "      <td>5.052960e+04</td>\n",
       "    </tr>\n",
       "    <tr>\n",
       "      <th>min</th>\n",
       "      <td>2000.000000</td>\n",
       "      <td>15.000000</td>\n",
       "      <td>500.000000</td>\n",
       "      <td>5.000000e+02</td>\n",
       "    </tr>\n",
       "    <tr>\n",
       "      <th>25%</th>\n",
       "      <td>2008.000000</td>\n",
       "      <td>30.000000</td>\n",
       "      <td>690.000000</td>\n",
       "      <td>9.267500e+02</td>\n",
       "    </tr>\n",
       "    <tr>\n",
       "      <th>50%</th>\n",
       "      <td>2014.000000</td>\n",
       "      <td>44.000000</td>\n",
       "      <td>750.000000</td>\n",
       "      <td>1.989000e+03</td>\n",
       "    </tr>\n",
       "    <tr>\n",
       "      <th>75%</th>\n",
       "      <td>2018.000000</td>\n",
       "      <td>60.000000</td>\n",
       "      <td>810.000000</td>\n",
       "      <td>5.506250e+03</td>\n",
       "    </tr>\n",
       "    <tr>\n",
       "      <th>max</th>\n",
       "      <td>2021.000000</td>\n",
       "      <td>1248.000000</td>\n",
       "      <td>1000.000000</td>\n",
       "      <td>1.861438e+06</td>\n",
       "    </tr>\n",
       "  </tbody>\n",
       "</table>\n",
       "</div>"
      ],
      "text/plain": [
       "         startYear  runtimeMinutes  averageRating      numVotes\n",
       "count  7116.000000     7116.000000    7116.000000  7.116000e+03\n",
       "mean   2012.771220       53.869449     745.120714  1.158796e+04\n",
       "std       5.806744       57.528634      90.335517  5.052960e+04\n",
       "min    2000.000000       15.000000     500.000000  5.000000e+02\n",
       "25%    2008.000000       30.000000     690.000000  9.267500e+02\n",
       "50%    2014.000000       44.000000     750.000000  1.989000e+03\n",
       "75%    2018.000000       60.000000     810.000000  5.506250e+03\n",
       "max    2021.000000     1248.000000    1000.000000  1.861438e+06"
      ]
     },
     "execution_count": 8,
     "metadata": {},
     "output_type": "execute_result"
    }
   ],
   "source": [
    "df.describe()"
   ]
  },
  {
   "cell_type": "code",
   "execution_count": 9,
   "id": "2e9daee6",
   "metadata": {},
   "outputs": [],
   "source": [
    "df.sort_values(by=['averageRating'],inplace=True,ascending=False)"
   ]
  },
  {
   "cell_type": "code",
   "execution_count": 10,
   "id": "5f7c9697",
   "metadata": {},
   "outputs": [],
   "source": [
    "df.to_csv(r\"C:\\Users\\mailt\\Desktop\\Github Projects\\Recommendation-Systems\\datasets\\processed_df.csv\",index=False)"
   ]
  },
  {
   "cell_type": "code",
   "execution_count": null,
   "id": "25bd5f82",
   "metadata": {},
   "outputs": [],
   "source": []
  }
 ],
 "metadata": {
  "kernelspec": {
   "display_name": "Python 3",
   "language": "python",
   "name": "python3"
  },
  "language_info": {
   "codemirror_mode": {
    "name": "ipython",
    "version": 3
   },
   "file_extension": ".py",
   "mimetype": "text/x-python",
   "name": "python",
   "nbconvert_exporter": "python",
   "pygments_lexer": "ipython3",
   "version": "3.8.8"
  }
 },
 "nbformat": 4,
 "nbformat_minor": 5
}
